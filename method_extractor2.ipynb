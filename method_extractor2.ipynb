{
  "nbformat": 4,
  "nbformat_minor": 0,
  "metadata": {
    "colab": {
      "provenance": [],
      "authorship_tag": "ABX9TyOIw1YYkJKeoNbnI50ui67a",
      "include_colab_link": true
    },
    "kernelspec": {
      "name": "python3",
      "display_name": "Python 3"
    },
    "language_info": {
      "name": "python"
    }
  },
  "cells": [
    {
      "cell_type": "markdown",
      "metadata": {
        "id": "view-in-github",
        "colab_type": "text"
      },
      "source": [
        "<a href=\"https://colab.research.google.com/github/mehenika/Log_level_identification/blob/main/method_extractor2.ipynb\" target=\"_parent\"><img src=\"https://colab.research.google.com/assets/colab-badge.svg\" alt=\"Open In Colab\"/></a>"
      ]
    },
    {
      "cell_type": "code",
      "execution_count": 1,
      "metadata": {
        "colab": {
          "base_uri": "https://localhost:8080/"
        },
        "id": "g7KYobVwdScm",
        "outputId": "fa2e25af-6ebb-4bb3-ba26-8dd29a3ad373"
      },
      "outputs": [
        {
          "output_type": "stream",
          "name": "stdout",
          "text": [
            "Collecting javalang\n",
            "  Downloading javalang-0.13.0-py3-none-any.whl (22 kB)\n",
            "Requirement already satisfied: six in /usr/local/lib/python3.10/dist-packages (from javalang) (1.16.0)\n",
            "Installing collected packages: javalang\n",
            "Successfully installed javalang-0.13.0\n"
          ]
        }
      ],
      "source": [
        "!pip install javalang"
      ]
    },
    {
      "cell_type": "code",
      "source": [
        "import os\n",
        "import re\n",
        "import csv\n",
        "import javalang\n",
        "from google.colab import drive\n",
        "\n",
        "def get_method_start_end(method_node, tree):\n",
        "    startpos  = None\n",
        "    endpos    = None\n",
        "    startline = None\n",
        "    endline   = None\n",
        "    for path, node in tree:\n",
        "        if startpos is not None and method_node not in path and endpos is None:\n",
        "            endpos = node.position\n",
        "            endline = node.position.line if node.position is not None else None\n",
        "        if startpos is None and node == method_node:\n",
        "            startpos = node.position\n",
        "            startline = node.position.line if node.position is not None else None\n",
        "\n",
        "        if startpos is not None and endpos is not None:\n",
        "          break\n",
        "\n",
        "    return startpos, endpos, startline, endline\n",
        "\n",
        "def get_method_text(startpos, endpos, startline, endline, last_endline_index, codelines):\n",
        "    if startpos is None:\n",
        "        return \"\", None, None, None\n",
        "    else:\n",
        "        startline_index = startline - 1\n",
        "        endline_index = endline - 1 if endpos is not None else None\n",
        "\n",
        "        # 1. check for and fetch annotations\n",
        "        if last_endline_index is not None:\n",
        "            for line in codelines[(last_endline_index + 1):(startline_index)]:\n",
        "                if \"@\" in line:\n",
        "                    startline_index = startline_index - 1\n",
        "        meth_text = \"<ST>\".join(codelines[startline_index:endline_index])\n",
        "        meth_text = meth_text[:meth_text.rfind(\"}\") + 1]\n",
        "\n",
        "        # 2. remove trailing rbrace for last methods & any external content/comments\n",
        "        # if endpos is None and\n",
        "        if not abs(meth_text.count(\"}\") - meth_text.count(\"{\")) == 0:\n",
        "            # imbalanced braces\n",
        "            brace_diff = abs(meth_text.count(\"}\") - meth_text.count(\"{\"))\n",
        "\n",
        "            for _ in range(brace_diff):\n",
        "                meth_text  = meth_text[:meth_text.rfind(\"}\")]\n",
        "                meth_text  = meth_text[:meth_text.rfind(\"}\") + 1]\n",
        "\n",
        "        meth_lines = meth_text.split(\"<ST>\")\n",
        "        meth_text  = \"\".join(meth_lines)\n",
        "        last_endline_index = startline_index + (len(meth_lines) - 1)\n",
        "\n",
        "        return meth_text, (startline_index + 1), (last_endline_index + 1), last_endline_index\n",
        "\n",
        "def extract_methods(file_content, codelines):\n",
        "    tree = javalang.parse.parse(file_content)\n",
        "    methods = []\n",
        "    lex = None\n",
        "    for _, node in tree.filter(javalang.tree.MethodDeclaration):\n",
        "        method_name = node.name\n",
        "        startpos, endpos, startline, endline = get_method_start_end(node, tree)\n",
        "        method_content, startline, endline, lex = get_method_text(startpos, endpos, startline, endline, lex, codelines)\n",
        "        methods.append((method_name, method_content.strip()))\n",
        "\n",
        "    return methods\n",
        "\n",
        "def process_java_files(folder_path):\n",
        "    all_methods = []\n",
        "    for java_file in os.listdir(folder_path):\n",
        "        if java_file.endswith('.java'):\n",
        "            file_path = os.path.join(folder_path, java_file)\n",
        "            codelines = None\n",
        "            with open(file_path, 'r') as r:\n",
        "                codelines = r.readlines()\n",
        "            with open(file_path, 'r', encoding='utf-8') as file:\n",
        "                file_content = file.read()\n",
        "                print(file_path)\n",
        "                methods = extract_methods(file_content, codelines)\n",
        "                all_methods.extend(methods)\n",
        "    return all_methods\n",
        "\n",
        "def save_to_csv(output_file, methods):\n",
        "    with open(output_file, 'w', newline='', encoding='utf-8') as csv_file:\n",
        "        csv_writer = csv.writer(csv_file)\n",
        "        csv_writer.writerow(['Method Name', 'Method Content'])\n",
        "        csv_writer.writerows(methods)\n",
        "\n",
        "def main(folder_path, output_file):\n",
        "    drive.mount('/content/drive')\n",
        "    methods = process_java_files(folder_path)\n",
        "    save_to_csv(output_file, methods)\n",
        "\n",
        "if __name__ == \"__main__\":\n",
        "    input_folder = '/content/drive/MyDrive/Example'\n",
        "    output_csv = '/content/drive/MyDrive/OutputFolder/all_methods.csv'\n",
        "    main(input_folder, output_csv)\n",
        "\n"
      ],
      "metadata": {
        "colab": {
          "base_uri": "https://localhost:8080/"
        },
        "id": "xBDt2olLdWpu",
        "outputId": "ffcd002e-b3b4-4d0d-f732-bb509206f832"
      },
      "execution_count": 2,
      "outputs": [
        {
          "output_type": "stream",
          "name": "stdout",
          "text": [
            "Mounted at /content/drive\n",
            "/content/drive/MyDrive/Example/AbstractAllocatorMemtable.java\n",
            "/content/drive/MyDrive/Example/AbstractCloudMetadataServiceSnitch.java\n",
            "/content/drive/MyDrive/Example/AbstractCommitLogSegmentManager.java\n",
            "/content/drive/MyDrive/Example/AbstractCompactionStrategy.java\n",
            "/content/drive/MyDrive/Example/AbstractCommitLogService.java\n"
          ]
        }
      ]
    }
  ]
}