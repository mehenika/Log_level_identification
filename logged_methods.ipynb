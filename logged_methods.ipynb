{
  "nbformat": 4,
  "nbformat_minor": 0,
  "metadata": {
    "colab": {
      "provenance": [],
      "authorship_tag": "ABX9TyOQ3lEhxCwWmU/qlPRliRs2",
      "include_colab_link": true
    },
    "kernelspec": {
      "name": "python3",
      "display_name": "Python 3"
    },
    "language_info": {
      "name": "python"
    }
  },
  "cells": [
    {
      "cell_type": "markdown",
      "metadata": {
        "id": "view-in-github",
        "colab_type": "text"
      },
      "source": [
        "<a href=\"https://colab.research.google.com/github/mehenika/Log_level_identification/blob/main/logged_methods.ipynb\" target=\"_parent\"><img src=\"https://colab.research.google.com/assets/colab-badge.svg\" alt=\"Open In Colab\"/></a>"
      ]
    },
    {
      "cell_type": "code",
      "source": [
        "import csv\n",
        "import os\n",
        "from google.colab import drive\n",
        "drive.mount('/content/drive')\n",
        "\n",
        "\n",
        "def contains_logging_statement(method_content):\n",
        "    # Add your logic to determine if the method contains a logging statement\n",
        "    # For example, checking for common logging methods like 'log.debug', 'log.info', etc.\n",
        "    logging_keywords = ['log.debug', 'log.info', 'log.warn', 'log.error', 'log.trace',\n",
        "                        'logger.debug', 'logger.info', 'logger.warn', 'logger.error', 'logger.trace',\n",
        "                        'getLog().debug', 'getLog().info', 'getLog().warn', 'getLog().error', 'getLog().trace',\n",
        "                        'this.log.debug', 'this.log.info', 'this.log.warn', 'this.log.error', 'this.log.trace',\n",
        "                        'LoggerFactory.getLogger']\n",
        "    return any(keyword in method_content for keyword in logging_keywords)\n",
        "\n",
        "def filter_methods_with_logging(input_csv, output_csv):\n",
        "    filtered_methods = []\n",
        "\n",
        "    with open(input_csv, 'r', encoding='utf-8') as csv_file:\n",
        "        csv_reader = csv.reader(csv_file)\n",
        "        header = next(csv_reader)  # Skip header\n",
        "        method_name_index = header.index('Method Name')\n",
        "        method_content_index = header.index('Method Content')\n",
        "\n",
        "        for row in csv_reader:\n",
        "            method_name = row[method_name_index]\n",
        "            method_content = row[method_content_index]\n",
        "\n",
        "            if contains_logging_statement(method_content):\n",
        "                filtered_methods.append((method_name, method_content))\n",
        "\n",
        "    with open(output_csv, 'w', newline='', encoding='utf-8') as output_file:\n",
        "        csv_writer = csv.writer(output_file)\n",
        "        csv_writer.writerow(['Method Name', 'Method Content'])\n",
        "        csv_writer.writerows(filtered_methods)\n",
        "\n",
        "if __name__ == \"__main__\":\n",
        "    input_csv = '/content/drive/MyDrive/Thesis_Brock/Output_Folder/hadoop_methods.csv'\n",
        "    output_csv_with_logging = '/content/drive/MyDrive/Thesis_Brock/Logged_Methods/hadoop_methods_with_logging.csv'\n",
        "\n",
        "    filter_methods_with_logging(input_csv, output_csv_with_logging)\n"
      ],
      "metadata": {
        "colab": {
          "base_uri": "https://localhost:8080/"
        },
        "id": "rcm8TmzpOLZ-",
        "outputId": "44d9238b-2ad8-4ddf-b751-9cee144f8d82"
      },
      "execution_count": 26,
      "outputs": [
        {
          "output_type": "stream",
          "name": "stdout",
          "text": [
            "Drive already mounted at /content/drive; to attempt to forcibly remount, call drive.mount(\"/content/drive\", force_remount=True).\n"
          ]
        }
      ]
    }
  ]
}